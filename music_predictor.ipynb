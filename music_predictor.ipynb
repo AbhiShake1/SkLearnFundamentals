{
 "cells": [
  {
   "cell_type": "code",
   "execution_count": 5,
   "id": "a0d478da",
   "metadata": {},
   "outputs": [
    {
     "name": "stderr",
     "output_type": "stream",
     "text": [
      "/usr/local/lib/python3.8/dist-packages/sklearn/base.py:445: UserWarning: X does not have valid feature names, but DecisionTreeClassifier was fitted with feature names\n",
      "  warnings.warn(\n"
     ]
    }
   ],
   "source": [
    "import pandas as pd\n",
    "from sklearn.tree import DecisionTreeClassifier\n",
    "from sklearn.model_selection import train_test_split as tts\n",
    "from sklearn.metrics import accuracy_score\n",
    "import joblib\n",
    "\n",
    "\"\"\"\n",
    "music_data = pd.read_csv(\"music.csv\")\n",
    "input_set = music_data.drop(columns=[\"genre\"])\n",
    "output_set = music_data[\"genre\"]\n",
    "#allocating 20% data for testing\n",
    "input_train, input_test, output_train, output_test = tts(input_set, output_set, test_size=0.2)\n",
    "model = DecisionTreeClassifier()\n",
    "model.fit(input_train, output_train)\n",
    "predictions = model.predict(input_test) \n",
    "accuracy_score(output_test, predictions) #value between 0 and 1\n",
    "#50 to 100% accuracy with 20% data\n",
    "\"\"\"\n",
    "\n",
    "# joblib.dump(model, \"music-recommender.joblib\")\n",
    "\n",
    "model = joblib.load(\"music-recommender.joblib\")\n",
    "\n",
    "predictions = model.predict([[21, 1]]) # predicting what 21y.o male likes\n",
    "predictions"
   ]
  },
  {
   "cell_type": "code",
   "execution_count": null,
   "id": "119fe7c1",
   "metadata": {},
   "outputs": [],
   "source": []
  }
 ],
 "metadata": {
  "kernelspec": {
   "display_name": "Python 3 (ipykernel)",
   "language": "python",
   "name": "python3"
  },
  "language_info": {
   "codemirror_mode": {
    "name": "ipython",
    "version": 3
   },
   "file_extension": ".py",
   "mimetype": "text/x-python",
   "name": "python",
   "nbconvert_exporter": "python",
   "pygments_lexer": "ipython3",
   "version": "3.8.10"
  }
 },
 "nbformat": 4,
 "nbformat_minor": 5
}
